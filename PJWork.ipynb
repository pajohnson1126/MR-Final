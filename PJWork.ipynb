{
 "cells": [
  {
   "cell_type": "code",
   "execution_count": 15,
   "id": "ab132de5-2940-46e9-b929-14426bf7d0ea",
   "metadata": {},
   "outputs": [],
   "source": [
    "import math\n",
    "\n",
    "def is_terminal(board, index):\n",
    "    SUM = 15\n",
    "    #row and col length\"\n",
    "    n = 3\n",
    "    \n",
    "    # index of last move taken\n",
    "    #checks each row, col, diagonals for terminal move\n",
    "    \n",
    "    #check col\n",
    "    colNum = index[1]\n",
    "    colSum = 0\n",
    "    for i in range(n):\n",
    "        #if an entry is empty\n",
    "        if(np.isinf(board[i][colNum])):\n",
    "            break;\n",
    "        else:\n",
    "            colSum = colSum + board[i][colNum]\n",
    "    if colSum == SUM:\n",
    "        return True\n",
    "    \n",
    "    #check row\n",
    "    rowNum = index[0]\n",
    "    rowSum = 0\n",
    "    for i in range(n):\n",
    "        if(np.isinf(board[rowNum][i] == -1)):\n",
    "            break;\n",
    "        else:\n",
    "            rowSum = rowSum + board[rowNum][i]\n",
    "    if rowSum == SUM:\n",
    "        return True\n",
    "    \n",
    "    #check diag\n",
    "    diagSum = 0\n",
    "    if(rowNum == colNum):\n",
    "        diagSum = 0\n",
    "        for i in range(n):\n",
    "            if(np.isinf(board[i][i])):\n",
    "                break;\n",
    "            else:\n",
    "                diagSum = diagSum + board[i][i]\n",
    "    if diagSum == SUM:\n",
    "        return True\n",
    "            \n",
    "    #check other diagonal\n",
    "    \n",
    "    if(rowNum + colNum == n - 1):\n",
    "        for i in range(n):\n",
    "            if(np.isinf(board[i][(n-1)-i])):\n",
    "                break;\n",
    "            else:\n",
    "                diagSum = diagSum + board[i][i]\n",
    "    if diagSum == SUM:\n",
    "        return True\n",
    "    \n",
    "    return False"
   ]
  },
  {
   "cell_type": "code",
   "execution_count": 21,
   "id": "81fb41d2-b532-4bd2-b7d0-cdf61d7e0b5b",
   "metadata": {},
   "outputs": [
    {
     "data": {
      "text/plain": [
       "True"
      ]
     },
     "execution_count": 21,
     "metadata": {},
     "output_type": "execute_result"
    }
   ],
   "source": [
    "board = [[5, 0, 0], [0, 5, 0], [0, 0, 5]]\n",
    "index = [0, 0]\n",
    "\n",
    "is_terminal(board, index)\n"
   ]
  },
  {
   "cell_type": "code",
   "execution_count": 27,
   "id": "b6ccef45-cbaa-4712-9560-3c61097045b6",
   "metadata": {},
   "outputs": [],
   "source": []
  },
  {
   "cell_type": "code",
   "execution_count": null,
   "id": "1257b5cb-6b06-4a37-98f0-ece8ec5aac0b",
   "metadata": {},
   "outputs": [],
   "source": []
  }
 ],
 "metadata": {
  "kernelspec": {
   "display_name": "Python 3.8",
   "language": "python",
   "name": "python3"
  },
  "language_info": {
   "codemirror_mode": {
    "name": "ipython",
    "version": 3
   },
   "file_extension": ".py",
   "mimetype": "text/x-python",
   "name": "python",
   "nbconvert_exporter": "python",
   "pygments_lexer": "ipython3",
   "version": "3.8.6"
  }
 },
 "nbformat": 4,
 "nbformat_minor": 5
}
