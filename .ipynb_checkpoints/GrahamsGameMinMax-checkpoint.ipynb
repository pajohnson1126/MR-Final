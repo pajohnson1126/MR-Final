{
 "cells": [
  {
   "cell_type": "code",
   "execution_count": 1,
   "id": "c68dd65b-ffbf-4ce4-b84b-11207c908655",
   "metadata": {},
   "outputs": [],
   "source": [
    "# MinMax Algorithm for Graham's game\n",
    "import math\n",
    "import numpy as np\n",
    "board_dim = 3\n",
    "final_sum = 15\n",
    "player_choices = [[1, 3, 5, 7, 9], [2, 4, 6, 8]]\n",
    "board = [[np.inf for _ in range(board_dim)] for j in range(board_dim)]"
   ]
  },
  {
   "cell_type": "code",
   "execution_count": 7,
   "id": "fc192561-4402-44b5-bf58-146c142bdee5",
   "metadata": {},
   "outputs": [],
   "source": [
    "def terminal(board, index):\n",
    "    pass # return boolean"
   ]
  },
  {
   "cell_type": "code",
   "execution_count": 10,
   "id": "ecf4a243-b806-4b51-b8d2-f8459f8894ed",
   "metadata": {},
   "outputs": [],
   "source": [
    "# starting parameters: current_player = 0 = odd choices\n",
    "# board = np.inf for all\n",
    "# board_dim = 3\n",
    "# final_sum = 15\n",
    "# choices = above\n",
    "# index = [-1, -1] , unimportant. Initialized after first step\n",
    "# i = 0\n",
    "def minmax(board, board_dim, final_sum, player_choices, current_player, index, i):\n",
    "    choices = player_choices[0]\n",
    "    if i == 0: # here we can check fewer by symmetry (3 positions and 3 numbers)\n",
    "        successors = []\n",
    "        for pos in [(0, 0), (1, 1), (0, 1)]:\n",
    "            for num in [1, 3, 5]:\n",
    "                board[pos[0]][pos[1]] = num\n",
    "                # continued ...\n",
    "        i += 1\n",
    "        v = []\n",
    "    else:\n",
    "        if terminal(board, index):\n",
    "            if current_player == 1:\n",
    "                return 1\n",
    "            return -1\n",
    "        \n",
    "        successors = []\n",
    "        for row in range(board_dim):\n",
    "            for col in range(board_dim):\n",
    "                if board[row][col] == np.inf:\n",
    "                    temp_choices = np.copy(choices)\n",
    "                    for choice in temp_choices:\n",
    "                        board[row][col] = choice\n",
    "                        choice.remove(choice)\n",
    "                        successors.append((np.copy(board), [row, col], temp_choices))\n",
    "                    board[row][col] = np.inf\n",
    "                    \n",
    "        i += 1                             \n",
    "        v = [minmax(k[0], board_dim, final_sum, k[2], 1 - current_player, k[1], i) for k in successors]                                   \n",
    "        if current_player == 0:\n",
    "            return max(v)\n",
    "        return min(v)\n",
    "            \n",
    "                                           \n",
    "        "
   ]
  },
  {
   "cell_type": "code",
   "execution_count": null,
   "id": "2f413f57-3896-42b9-9c6b-bc96bc1cf09f",
   "metadata": {},
   "outputs": [],
   "source": []
  }
 ],
 "metadata": {
  "kernelspec": {
   "display_name": "Python 3.8",
   "language": "python",
   "name": "python3"
  },
  "language_info": {
   "codemirror_mode": {
    "name": "ipython",
    "version": 3
   },
   "file_extension": ".py",
   "mimetype": "text/x-python",
   "name": "python",
   "nbconvert_exporter": "python",
   "pygments_lexer": "ipython3",
   "version": "3.8.6"
  }
 },
 "nbformat": 4,
 "nbformat_minor": 5
}
